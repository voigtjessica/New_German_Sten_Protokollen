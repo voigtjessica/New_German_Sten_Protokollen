{
 "cells": [
  {
   "cell_type": "code",
   "execution_count": 1,
   "metadata": {},
   "outputs": [
    {
     "name": "stdout",
     "output_type": "stream",
     "text": [
      "AoJwuIDv9oUDNFBsZW5hcnByb3Rva29sbC01NTQ2\n",
      "AoJw-LCM5IQDNFBsZW5hcnByb3Rva29sbC01NTM1\n",
      "AoJwkPDr94MDNFBsZW5hcnByb3Rva29sbC01NTIy\n",
      "AoJwkKTskIMDNFBsZW5hcnByb3Rva29sbC01NTEw\n",
      "AoJwkL3AlIEDNFBsZW5hcnByb3Rva29sbC01NDk4\n",
      "AoJw0OqwuoADNFBsZW5hcnByb3Rva29sbC01NDg2\n",
      "AoJwuOWrzv8CNFBsZW5hcnByb3Rva29sbC01NDc0\n",
      "AoJw-NCPrP4CNFBsZW5hcnByb3Rva29sbC01NDUz\n",
      "AoJw-PCph_0CNFBsZW5hcnByb3Rva29sbC01NDM0\n",
      "AoJwkMKXx_kCNFBsZW5hcnByb3Rva29sbC01NDE3\n",
      "AoJwkKS-6vgCNFBsZW5hcnByb3Rva29sbC01NDA1\n",
      "AoJw-MLs6fcCNFBsZW5hcnByb3Rva29sbC01Mzkz\n",
      "AoJw-J3NtfYCNFBsZW5hcnByb3Rva29sbC01Mzc5\n",
      "AoJw-NvA7fUCNFBsZW5hcnByb3Rva29sbC01MzY3\n",
      "AoJw0KGw9PQCNFBsZW5hcnByb3Rva29sbC01MzU1\n",
      "AoJwkMuHivMCNFBsZW5hcnByb3Rva29sbC01MzQy\n",
      "AoJw0Nfxi_ICNFBsZW5hcnByb3Rva29sbC01MzMw\n",
      "AoJw-InQ5PACNFBsZW5hcnByb3Rva29sbC01MzE0\n",
      "AoJw-JzK2e8CNFBsZW5hcnByb3Rva29sbC01MzAz\n",
      "AoJw-N3q2O4CNFBsZW5hcnByb3Rva29sbC01Mjkx\n",
      "AoJw0K3N_u0CNFBsZW5hcnByb3Rva29sbC01Mjgw\n",
      "AoJwkP_wj-0CNFBsZW5hcnByb3Rva29sbC01MjY4\n",
      "AoJwkLKF4OoCNFBsZW5hcnByb3Rva29sbC00ODE4\n",
      "AoJw0IOp8ekCNFBsZW5hcnByb3Rva29sbC00ODA3\n",
      "AoJw-IS0-OgCNFBsZW5hcnByb3Rva29sbC00Nzk0\n",
      "AoJw-KuUq-gCNFBsZW5hcnByb3Rva29sbC00Nzg2\n"
     ]
    }
   ],
   "source": [
    "import pandas as pd\n",
    "import requests\n",
    "import json\n",
    "\n",
    "# Criação do DataFrame geral que vai receber todos os documentos\n",
    "\n",
    "data = {\n",
    "    'id': [], 'dokumentart': [], 'typ': [], 'vorgangsbezug_anzahl': [], 'dokumentnummer': [], 'wahlperiode': [], 'herausgeber': [],'pdf_hash': [],\n",
    "    'datum': [], 'titel': [], 'text': [], 'fundstelle': [], 'vorgangsbezug': [], 'aktualisiert': [] }\n",
    "\n",
    "general_df = pd.DataFrame(data)\n",
    "\n",
    "# Ao reproduzir, verificar se a API key ainda é válida\n",
    "URL_INICIO = \"https://search.dip.bundestag.de/api/v1/plenarprotokoll-text?f.zuordnung=BT&f.datum.start=2019-01-01&f.datum.end=2023-03-16&apikey=rgsaY4U.oZRQKUHdJhF9qguHMkwCGIoLaqEcaHjYLF\"\n",
    "CURSOR = None\n",
    "new_cursor_found = True\n",
    "\n",
    "while new_cursor_found:\n",
    "    url = URL_INICIO\n",
    "\n",
    "    if CURSOR:\n",
    "        url += '&cursor=' + CURSOR\n",
    "\n",
    "    #Parte que verifica se teremos uma próxima página\n",
    "\n",
    "    response = requests.get(url)\n",
    "    response_json = json.loads(response.text)\n",
    "    new_cursor = response_json.get('cursor')\n",
    "\n",
    "    #Parte que coleta as informacoes para um dataframe\n",
    "    documents = pd.DataFrame(response_json['documents'])\n",
    "    general_df = pd.concat([general_df, documents])\n",
    "\n",
    "    if new_cursor != CURSOR:\n",
    "        CURSOR = new_cursor\n",
    "        print(CURSOR)\n",
    "    else:\n",
    "        new_cursor_found = False\n"
   ]
  },
  {
   "cell_type": "code",
   "execution_count": 8,
   "metadata": {},
   "outputs": [],
   "source": [
    "general_df.to_csv('0_general_df.csv', sep=';', encoding='UTF-8')"
   ]
  }
 ],
 "metadata": {
  "kernelspec": {
   "display_name": "Python 3",
   "language": "python",
   "name": "python3"
  },
  "language_info": {
   "codemirror_mode": {
    "name": "ipython",
    "version": 3
   },
   "file_extension": ".py",
   "mimetype": "text/x-python",
   "name": "python",
   "nbconvert_exporter": "python",
   "pygments_lexer": "ipython3",
   "version": "3.10.7"
  },
  "orig_nbformat": 4
 },
 "nbformat": 4,
 "nbformat_minor": 2
}
